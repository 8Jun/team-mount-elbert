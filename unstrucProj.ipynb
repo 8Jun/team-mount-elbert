{
 "cells": [
  {
   "cell_type": "code",
   "execution_count": 1,
   "metadata": {},
   "outputs": [],
   "source": [
    "import findspark\n",
    "findspark.init()\n",
    "import pyspark\n",
    "from pyspark import SQLContext\n",
    "from pyspark.sql import SparkSession\n",
    "spark = SparkSession.builder.getOrCreate()"
   ]
  },
  {
   "cell_type": "code",
   "execution_count": 2,
   "metadata": {},
   "outputs": [],
   "source": [
    "spark = SparkSession.builder.getOrCreate()\n",
    "sqlContext = SQLContext.getOrCreate(spark.sparkContext)"
   ]
  },
  {
   "cell_type": "code",
   "execution_count": 3,
   "metadata": {},
   "outputs": [],
   "source": [
    "news_df = sqlContext.read.csv(\"Desktop/news.csv\",header=True)"
   ]
  },
  {
   "cell_type": "code",
   "execution_count": 4,
   "metadata": {},
   "outputs": [
    {
     "name": "stdout",
     "output_type": "stream",
     "text": [
      "+---+--------------------+--------------------+--------------------+--------------------+--------------------+--------------------+\n",
      "|_c0|             authors|               title|        publish_date|         description|                text|                 url|\n",
      "+---+--------------------+--------------------+--------------------+--------------------+--------------------+--------------------+\n",
      "|  0|        ['Cbc News']|Coronavirus a 'wa...| 2020-03-27 08:00:00|Canadian pharmaci...|\"Canadian pharmac...|\"\" he said.  Tadr...|\n",
      "|  1|        ['Cbc News']|Yukon gov't names...| 2020-03-27 01:45:00|The Yukon governm...|\"The Yukon govern...|  from March 9 to 13|\n",
      "|  2|['The Associated ...|U.S. Senate passe...| 2020-03-26 05:13:00|The Senate has pa...|\"The Senate late ...|\"\" said Democrati...|\n",
      "|  3|        ['Cbc News']|Coronavirus: The ...| 2020-03-27 00:36:00|Scientists around...|\"Scientists aroun...| \"\" said Zarychanski|\n",
      "|  4|        ['Cbc News']|The latest on the...| 2020-03-26 20:57:00|The latest on the...|\"    Trudeau says...|\"\" Prime Minister...|\n",
      "|  5|['Mark Gollom Is ...|'Worse' pandemic ...| 2020-03-27 08:00:00|The continued exi...|\"The continued ex...| there is nothing...|\n",
      "|  6|        ['Cbc News']|What you need to ...| 2020-03-27 08:00:00|CBC Ottawa's late...|Recent developmen...|https://www.cbc.c...|\n",
      "|  7|['The Associated ...|Michigan hospital...| 2020-03-26 11:02:00|Michigan hospital...|Michigan hospital...|https://www.cbc.c...|\n",
      "|  8| ['Thomson Reuters']|U.S. coronavirus ...| 2020-03-26 14:55:00|The number of con...|\"The number of co...| the EPA does not...|\n",
      "|  9|['Leah Hendry Is ...|'Avoid the emerge...| 2020-03-27 08:00:00|Montreal's Jewish...|\"The Jewish Gener...|\"\" said Dupuis. \"...|\n",
      "| 10|['Reporter', 'Web...|COVID-19 in Sask:...| 2020-03-26 14:18:00|The Saskatchewan ...|\" Three Saskatche...| 2020 between 2 p...|\n",
      "| 11|\"['Jorge Barrera ...| 'Jorgebarrera Or...|            'Follow'| 'Jorgebarrera On...|Manitoba chiefs o...| 2020-03-27 08:01:00|\n",
      "| 12|['Colleen M. Floo...|How invoking the ...| 2020-03-27 08:00:00|Under the Emergen...|\"This column is a...|                test|\n",
      "| 14|\"['Producer', 'Cb...| 'As The Late Lin...| 'James Dunne On ...|In Ontario, const...| 2020-03-27 08:00:00|Construction is o...|\n",
      "| 15|['Dan Mcgarvey Is...|Alberta's film in...| 2020-03-26 12:00:00|Alberta’s TV and ...|\"Alberta's TV and...|\"\" said Robert Hi...|\n",
      "| 16|\"['Cbc News New Y...| 'The World Cup I...| 'He Spent Eight ...| 'The Rob Ford Cr...|'Like a war zone'...| 2020-03-27 08:00:00|\n",
      "| 17|                  []|N.L. fisheries re...| 2020-03-27 08:30:00|A Memorial Univer...|\"A Memorial Unive...|\"\" said Chuenpagd...|\n",
      "| 18|                  []|1st death, 3 new ...| 2020-03-11 00:15:00|Here's today's in...|\"Manitoba is unde...|\"\" Roussin said o...|\n",
      "| 19|\"['Investigative ...| 'Caroline.Bargho...|         'Twitter']\"|Medical experts w...| 2020-03-26 08:00:00|Medical experts a...|\n",
      "| 20|['Hadeel Ibrahim ...|It's 'too late' f...| 2020-03-27 08:00:00|New Brunswick has...|\"New Brunswick ha...| a province could...|\n",
      "+---+--------------------+--------------------+--------------------+--------------------+--------------------+--------------------+\n",
      "only showing top 20 rows\n",
      "\n"
     ]
    }
   ],
   "source": [
    "news_df.show()"
   ]
  },
  {
   "cell_type": "code",
   "execution_count": 5,
   "metadata": {},
   "outputs": [],
   "source": [
    "#clean columns, remove smybols\n",
    "from pyspark.sql.functions import *\n",
    "def cleanColumn(tmpdf,colName,findChar,replaceChar):\n",
    "    tmpdf = tmpdf.withColumn(colName, regexp_replace(colName, findChar, replaceChar))\n",
    "    return tmpdf\n",
    "\n",
    "allColNames = news_df.schema.names\n",
    "charToRemove= \"[\\\"!@#$%^&*\\(\\)\\{\\}\\[\\]\\']\"\n",
    "replaceWith =\"\"\n",
    "for colName in allColNames:\n",
    "    news_df=cleanColumn(news_df,colName,charToRemove,replaceWith)"
   ]
  },
  {
   "cell_type": "code",
   "execution_count": 6,
   "metadata": {},
   "outputs": [
    {
     "name": "stdout",
     "output_type": "stream",
     "text": [
      "+---+--------------------+--------------------+--------------------+--------------------+--------------------+--------------------+\n",
      "|_c0|             authors|               title|        publish_date|         description|                text|                 url|\n",
      "+---+--------------------+--------------------+--------------------+--------------------+--------------------+--------------------+\n",
      "|  0|            Cbc News|Coronavirus a wak...| 2020-03-27 08:00:00|Canadian pharmaci...|Canadian pharmaci...| he said.  Tadrou...|\n",
      "|  1|            Cbc News|Yukon govt names ...| 2020-03-27 01:45:00|The Yukon governm...|The Yukon governm...|  from March 9 to 13|\n",
      "|  2|The Associated Press|U.S. Senate passe...| 2020-03-26 05:13:00|The Senate has pa...|The Senate late W...| said Democratic ...|\n",
      "|  3|            Cbc News|Coronavirus: The ...| 2020-03-27 00:36:00|Scientists around...|Scientists around...|    said Zarychanski|\n",
      "|  4|            Cbc News|The latest on the...| 2020-03-26 20:57:00|The latest on the...|    Trudeau says ...| Prime Minister J...|\n",
      "|  5|Mark Gollom Is A ...|Worse pandemic on...| 2020-03-27 08:00:00|The continued exi...|The continued exi...| there is nothing...|\n",
      "|  6|            Cbc News|What you need to ...| 2020-03-27 08:00:00|CBC Ottawas lates...|Recent developmen...|https://www.cbc.c...|\n",
      "|  7|The Associated Press|Michigan hospital...| 2020-03-26 11:02:00|Michigan hospital...|Michigan hospital...|https://www.cbc.c...|\n",
      "|  8|     Thomson Reuters|U.S. coronavirus ...| 2020-03-26 14:55:00|The number of con...|The number of con...| the EPA does not...|\n",
      "|  9|Leah Hendry Is A ...|Avoid the emergen...| 2020-03-27 08:00:00|Montreals Jewish ...|The Jewish Genera...| said Dupuis. Its...|\n",
      "| 10|Reporter, Web Wri...|COVID-19 in Sask:...| 2020-03-26 14:18:00|The Saskatchewan ...| Three Saskatchew...| 2020 between 2 p...|\n",
      "| 11|Jorge Barrera Is ...| Jorgebarrera Or ...|              Follow| Jorgebarrera On ...|Manitoba chiefs o...| 2020-03-27 08:01:00|\n",
      "| 12|Colleen M. Flood ...|How invoking the ...| 2020-03-27 08:00:00|Under the Emergen...|This column is an...|                test|\n",
      "| 14|Producer, Cbc New...| As The Late Line...| James Dunne On L...|In Ontario, const...| 2020-03-27 08:00:00|Construction is o...|\n",
      "| 15|Dan Mcgarvey Is A...|Albertas film ind...| 2020-03-26 12:00:00|Alberta’s TV and ...|Albertas TV and m...| said Robert Hilt...|\n",
      "| 16|Cbc News New York...| The World Cup In...| He Spent Eight Y...| The Rob Ford Cra...|Like a war zone: ...| 2020-03-27 08:00:00|\n",
      "| 17|                    |N.L. fisheries re...| 2020-03-27 08:30:00|A Memorial Univer...|A Memorial Univer...| said Chuenpagdee...|\n",
      "| 18|                    |1st death, 3 new ...| 2020-03-11 00:15:00|Heres todays info...|Manitoba is under...| Roussin said on ...|\n",
      "| 19|Investigative Rep...| Caroline.Barghou...|             Twitter|Medical experts w...| 2020-03-26 08:00:00|Medical experts a...|\n",
      "| 20|Hadeel Ibrahim Is...|Its too late for ...| 2020-03-27 08:00:00|New Brunswick has...|New Brunswick has...| a province could...|\n",
      "+---+--------------------+--------------------+--------------------+--------------------+--------------------+--------------------+\n",
      "only showing top 20 rows\n",
      "\n"
     ]
    }
   ],
   "source": [
    "news_df.show()"
   ]
  },
  {
   "cell_type": "code",
   "execution_count": 7,
   "metadata": {},
   "outputs": [
    {
     "name": "stdout",
     "output_type": "stream",
     "text": [
      "+--------------------+--------------------+--------------------+--------------------+--------------------+--------------------+\n",
      "|             authors|               title|        publish_date|         description|                text|                 url|\n",
      "+--------------------+--------------------+--------------------+--------------------+--------------------+--------------------+\n",
      "|            Cbc News|Coronavirus a wak...| 2020-03-27 08:00:00|Canadian pharmaci...|Canadian pharmaci...| he said.  Tadrou...|\n",
      "|            Cbc News|Yukon govt names ...| 2020-03-27 01:45:00|The Yukon governm...|The Yukon governm...|  from March 9 to 13|\n",
      "|The Associated Press|U.S. Senate passe...| 2020-03-26 05:13:00|The Senate has pa...|The Senate late W...| said Democratic ...|\n",
      "|            Cbc News|Coronavirus: The ...| 2020-03-27 00:36:00|Scientists around...|Scientists around...|    said Zarychanski|\n",
      "|            Cbc News|The latest on the...| 2020-03-26 20:57:00|The latest on the...|    Trudeau says ...| Prime Minister J...|\n",
      "|Mark Gollom Is A ...|Worse pandemic on...| 2020-03-27 08:00:00|The continued exi...|The continued exi...| there is nothing...|\n",
      "|            Cbc News|What you need to ...| 2020-03-27 08:00:00|CBC Ottawas lates...|Recent developmen...|https://www.cbc.c...|\n",
      "|The Associated Press|Michigan hospital...| 2020-03-26 11:02:00|Michigan hospital...|Michigan hospital...|https://www.cbc.c...|\n",
      "|     Thomson Reuters|U.S. coronavirus ...| 2020-03-26 14:55:00|The number of con...|The number of con...| the EPA does not...|\n",
      "|Leah Hendry Is A ...|Avoid the emergen...| 2020-03-27 08:00:00|Montreals Jewish ...|The Jewish Genera...| said Dupuis. Its...|\n",
      "|Reporter, Web Wri...|COVID-19 in Sask:...| 2020-03-26 14:18:00|The Saskatchewan ...| Three Saskatchew...| 2020 between 2 p...|\n",
      "|Jorge Barrera Is ...| Jorgebarrera Or ...|              Follow| Jorgebarrera On ...|Manitoba chiefs o...| 2020-03-27 08:01:00|\n",
      "|Colleen M. Flood ...|How invoking the ...| 2020-03-27 08:00:00|Under the Emergen...|This column is an...|                test|\n",
      "|Producer, Cbc New...| As The Late Line...| James Dunne On L...|In Ontario, const...| 2020-03-27 08:00:00|Construction is o...|\n",
      "|Dan Mcgarvey Is A...|Albertas film ind...| 2020-03-26 12:00:00|Alberta’s TV and ...|Albertas TV and m...| said Robert Hilt...|\n",
      "|Cbc News New York...| The World Cup In...| He Spent Eight Y...| The Rob Ford Cra...|Like a war zone: ...| 2020-03-27 08:00:00|\n",
      "|                    |N.L. fisheries re...| 2020-03-27 08:30:00|A Memorial Univer...|A Memorial Univer...| said Chuenpagdee...|\n",
      "|                    |1st death, 3 new ...| 2020-03-11 00:15:00|Heres todays info...|Manitoba is under...| Roussin said on ...|\n",
      "|Investigative Rep...| Caroline.Barghou...|             Twitter|Medical experts w...| 2020-03-26 08:00:00|Medical experts a...|\n",
      "|Hadeel Ibrahim Is...|Its too late for ...| 2020-03-27 08:00:00|New Brunswick has...|New Brunswick has...| a province could...|\n",
      "+--------------------+--------------------+--------------------+--------------------+--------------------+--------------------+\n",
      "only showing top 20 rows\n",
      "\n"
     ]
    }
   ],
   "source": [
    "#drop column _c0\n",
    "news_df = news_df.drop('_c0')\n",
    "news_df.show()"
   ]
  },
  {
   "cell_type": "code",
   "execution_count": 13,
   "metadata": {},
   "outputs": [],
   "source": [
    "#drop rows with NAs/ Null values\n",
    "def dropNA (tmpdf2,columnName):\n",
    "    tmpdf2 = tmpdf2.where(col(columnName).isNotNull())\n",
    "    return tmpdf2\n",
    "\n",
    "columnName = [\"authors\",\"title\",\"publish_date\",\"description\",\"text\",\"url\"]\n",
    "allColNames2 = news_df.schema.names\n",
    "\n",
    "for columnName in allColNames2:\n",
    "    news_df = dropNA(news_df,columnName)"
   ]
  },
  {
   "cell_type": "code",
   "execution_count": 14,
   "metadata": {},
   "outputs": [
    {
     "name": "stdout",
     "output_type": "stream",
     "text": [
      "+--------------------+--------------------+--------------------+--------------------+--------------------+--------------------+\n",
      "|             authors|               title|        publish_date|         description|                text|                 url|\n",
      "+--------------------+--------------------+--------------------+--------------------+--------------------+--------------------+\n",
      "|            Cbc News|Coronavirus a wak...| 2020-03-27 08:00:00|Canadian pharmaci...|Canadian pharmaci...| he said.  Tadrou...|\n",
      "|            Cbc News|Yukon govt names ...| 2020-03-27 01:45:00|The Yukon governm...|The Yukon governm...|  from March 9 to 13|\n",
      "|The Associated Press|U.S. Senate passe...| 2020-03-26 05:13:00|The Senate has pa...|The Senate late W...| said Democratic ...|\n",
      "|            Cbc News|Coronavirus: The ...| 2020-03-27 00:36:00|Scientists around...|Scientists around...|    said Zarychanski|\n",
      "|            Cbc News|The latest on the...| 2020-03-26 20:57:00|The latest on the...|    Trudeau says ...| Prime Minister J...|\n",
      "|Mark Gollom Is A ...|Worse pandemic on...| 2020-03-27 08:00:00|The continued exi...|The continued exi...| there is nothing...|\n",
      "|            Cbc News|What you need to ...| 2020-03-27 08:00:00|CBC Ottawas lates...|Recent developmen...|https://www.cbc.c...|\n",
      "|The Associated Press|Michigan hospital...| 2020-03-26 11:02:00|Michigan hospital...|Michigan hospital...|https://www.cbc.c...|\n",
      "|     Thomson Reuters|U.S. coronavirus ...| 2020-03-26 14:55:00|The number of con...|The number of con...| the EPA does not...|\n",
      "|Leah Hendry Is A ...|Avoid the emergen...| 2020-03-27 08:00:00|Montreals Jewish ...|The Jewish Genera...| said Dupuis. Its...|\n",
      "|Reporter, Web Wri...|COVID-19 in Sask:...| 2020-03-26 14:18:00|The Saskatchewan ...| Three Saskatchew...| 2020 between 2 p...|\n",
      "|Jorge Barrera Is ...| Jorgebarrera Or ...|              Follow| Jorgebarrera On ...|Manitoba chiefs o...| 2020-03-27 08:01:00|\n",
      "|Colleen M. Flood ...|How invoking the ...| 2020-03-27 08:00:00|Under the Emergen...|This column is an...|                test|\n",
      "|Producer, Cbc New...| As The Late Line...| James Dunne On L...|In Ontario, const...| 2020-03-27 08:00:00|Construction is o...|\n",
      "|Dan Mcgarvey Is A...|Albertas film ind...| 2020-03-26 12:00:00|Alberta’s TV and ...|Albertas TV and m...| said Robert Hilt...|\n",
      "|Cbc News New York...| The World Cup In...| He Spent Eight Y...| The Rob Ford Cra...|Like a war zone: ...| 2020-03-27 08:00:00|\n",
      "|                    |N.L. fisheries re...| 2020-03-27 08:30:00|A Memorial Univer...|A Memorial Univer...| said Chuenpagdee...|\n",
      "|                    |1st death, 3 new ...| 2020-03-11 00:15:00|Heres todays info...|Manitoba is under...| Roussin said on ...|\n",
      "|Investigative Rep...| Caroline.Barghou...|             Twitter|Medical experts w...| 2020-03-26 08:00:00|Medical experts a...|\n",
      "|Hadeel Ibrahim Is...|Its too late for ...| 2020-03-27 08:00:00|New Brunswick has...|New Brunswick has...| a province could...|\n",
      "+--------------------+--------------------+--------------------+--------------------+--------------------+--------------------+\n",
      "only showing top 20 rows\n",
      "\n"
     ]
    }
   ],
   "source": [
    "news_df.show()"
   ]
  },
  {
   "cell_type": "code",
   "execution_count": 17,
   "metadata": {},
   "outputs": [
    {
     "name": "stdout",
     "output_type": "stream",
     "text": [
      "root\n",
      " |-- authors: string (nullable = true)\n",
      " |-- title: string (nullable = true)\n",
      " |-- publish_date: string (nullable = true)\n",
      " |-- description: string (nullable = true)\n",
      " |-- text: string (nullable = true)\n",
      " |-- url: string (nullable = true)\n",
      "\n"
     ]
    }
   ],
   "source": [
    "# print schema to know what to query against\n",
    "news_df.printSchema()"
   ]
  },
  {
   "cell_type": "code",
   "execution_count": 29,
   "metadata": {},
   "outputs": [],
   "source": [
    "#create tmp table view\n",
    "news_df.createOrReplaceTempView(\"count_table\")"
   ]
  },
  {
   "cell_type": "code",
   "execution_count": 38,
   "metadata": {},
   "outputs": [
    {
     "name": "stdout",
     "output_type": "stream",
     "text": [
      "+------------+\n",
      "|Author_Count|\n",
      "+------------+\n",
      "|         261|\n",
      "+------------+\n",
      "\n"
     ]
    }
   ],
   "source": [
    "#count # of authors\n",
    "filtered_count_df = spark.sql(\"SELECT COUNT (DISTINCT authors) AS Author_Count FROM count_table\")\n",
    "filtered_count_df.show()"
   ]
  },
  {
   "cell_type": "code",
   "execution_count": 40,
   "metadata": {},
   "outputs": [
    {
     "name": "stdout",
     "output_type": "stream",
     "text": [
      "+-------------------+-----+\n",
      "|       publish_date|count|\n",
      "+-------------------+-----+\n",
      "|2020-03-20 21:29:00|    3|\n",
      "|2020-03-11 18:42:00|    1|\n",
      "|2020-03-05 10:00:00|    1|\n",
      "|2020-01-28 21:30:00|    1|\n",
      "|2020-02-22 09:00:00|    4|\n",
      "|2020-02-04 21:38:00|    2|\n",
      "|2020-03-25 11:31:00|    1|\n",
      "|2020-03-25 20:00:00|    2|\n",
      "|2020-03-12 03:50:00|    1|\n",
      "|2020-03-18 22:28:00|    1|\n",
      "|2020-03-14 00:47:00|    2|\n",
      "|2020-02-06 20:25:00|    1|\n",
      "|2020-02-26 10:41:00|    1|\n",
      "|2020-02-10 02:50:00|    1|\n",
      "|2020-03-24 18:40:00|    1|\n",
      "|2020-03-25 17:55:00|    1|\n",
      "|2020-03-25 14:16:00|    1|\n",
      "|2020-03-24 19:42:00|    3|\n",
      "|2020-03-17 09:00:00|    1|\n",
      "|2020-03-17 10:27:00|    1|\n",
      "+-------------------+-----+\n",
      "only showing top 20 rows\n",
      "\n"
     ]
    }
   ],
   "source": [
    "#groupby publish_date to see how many articles were published daily and by time stamp\n",
    "news_df.groupBy(\"publish_date\").count().show()"
   ]
  },
  {
   "cell_type": "code",
   "execution_count": 41,
   "metadata": {},
   "outputs": [
    {
     "name": "stdout",
     "output_type": "stream",
     "text": [
      "+--------------------+-----+\n",
      "|             authors|count|\n",
      "+--------------------+-----+\n",
      "|Joel Ballard Is A...|    1|\n",
      "|Brian Higgins Sho...|    1|\n",
      "|Bryan Eneas Is A ...|    3|\n",
      "|Covering Everythi...|    1|\n",
      "|Defence, Murray B...|   13|\n",
      "|Adam Hunter Is Th...|   12|\n",
      "|Reporter Editor, ...|   14|\n",
      "|      Elham Shabahat|    1|\n",
      "|Co-Host, Cbc Vanc...|    1|\n",
      "|Nick Murray Is A ...|    1|\n",
      "|Kevin Yarr Is The...|    1|\n",
      "|Medical Science, ...|   12|\n",
      "|Brian Rodgers Is ...|    2|\n",
      "|Senior Writer, Pe...|   10|\n",
      "|Cbc Investigative...|    2|\n",
      "|Reporter, Cbc Tor...|    4|\n",
      "|Data Journalist, ...|    1|\n",
      "|Andie Bulman Is A...|    3|\n",
      "|Sarah Rieger Join...|    2|\n",
      "|Reporter, Robson ...|    6|\n",
      "+--------------------+-----+\n",
      "only showing top 20 rows\n",
      "\n"
     ]
    }
   ],
   "source": [
    "# groupby and count # of authors\n",
    "news_df.groupBy(\"authors\").count().show()"
   ]
  },
  {
   "cell_type": "code",
   "execution_count": 42,
   "metadata": {},
   "outputs": [
    {
     "name": "stdout",
     "output_type": "stream",
     "text": [
      "+--------------------+-----+\n",
      "|               title|count|\n",
      "+--------------------+-----+\n",
      "|Coronavirus: Here...|    1|\n",
      "|Michigan governor...|    1|\n",
      "|Unacceptable: Rea...|    1|\n",
      "|Chinas coronaviru...|    1|\n",
      "|1 in 3 Canadians ...|    1|\n",
      "|    MERS coronavirus|    1|\n",
      "|Seafood plants sc...|    1|\n",
      "|Mayor assures Win...|    1|\n",
      "|Saskatoon cannabi...|    1|\n",
      "|Charlottetown clo...|    2|\n",
      "|Public health eme...|    2|\n",
      "|Montreal-area hig...|    1|\n",
      "|Its scary: Canadi...|    1|\n",
      "|Plea from an ER d...|    1|\n",
      "|London to open CO...|    1|\n",
      "|City of Thunder B...|    1|\n",
      "|U.S. death toll f...|    1|\n",
      "|Working from home...|    1|\n",
      "|To say we werent ...|    1|\n",
      "|Patients can now ...|    1|\n",
      "+--------------------+-----+\n",
      "only showing top 20 rows\n",
      "\n"
     ]
    }
   ],
   "source": [
    "# groupby and count # of titles, shows duplicate titles\n",
    "news_df.groupBy(\"title\").count().show()"
   ]
  },
  {
   "cell_type": "code",
   "execution_count": 43,
   "metadata": {},
   "outputs": [
    {
     "name": "stdout",
     "output_type": "stream",
     "text": [
      "+--------------------+-----+\n",
      "|         description|count|\n",
      "+--------------------+-----+\n",
      "|A federal economi...|    1|\n",
      "|Groups that work ...|    1|\n",
      "|A ban on visitors...|    1|\n",
      "|Coronavirus may b...|    2|\n",
      "|More Indigenous c...|    1|\n",
      "|In a letter sent ...|    4|\n",
      "|While other presi...|    1|\n",
      "|As public health ...|    1|\n",
      "|Several employees...|    1|\n",
      "|Those concerned w...|    2|\n",
      "|As of Thursday, 1...|    1|\n",
      "|A chartered aircr...|    1|\n",
      "|The Timiskaming H...|    1|\n",
      "|Cape Breton Regio...|    1|\n",
      "|China has given t...|    1|\n",
      "|As many Canadians...|    1|\n",
      "|A doctor with the...|    2|\n",
      "|No sweeping bans ...|    1|\n",
      "|The Calgary Catho...|    1|\n",
      "|G7 finance minist...|    1|\n",
      "+--------------------+-----+\n",
      "only showing top 20 rows\n",
      "\n"
     ]
    }
   ],
   "source": [
    "# groupby and count # of description shows duplicate descriptions\n",
    "news_df.groupBy(\"description\").count().show()"
   ]
  },
  {
   "cell_type": "code",
   "execution_count": 44,
   "metadata": {},
   "outputs": [
    {
     "name": "stdout",
     "output_type": "stream",
     "text": [
      "+--------------------+-----+\n",
      "|                 url|count|\n",
      "+--------------------+-----+\n",
      "| Johnson said in ...|    1|\n",
      "|      Dr. Mark Joffe|    1|\n",
      "| the Manitoban sa...|    1|\n",
      "|Whos the Canadian...|    1|\n",
      "| the company said...|    1|\n",
      "| he said. Theres ...|    1|\n",
      "| the office of th...|    2|\n",
      "|Much of Quebecs e...|    1|\n",
      "| Trudeau urged ev...|    2|\n",
      "| chief provincial...|    1|\n",
      "|https://www.cbc.c...|    1|\n",
      "| said Tyler Misla...|    2|\n",
      "| said Myriam Laro...|    1|\n",
      "|   said Jon Ola Sand|    1|\n",
      "| the statement sa...|    1|\n",
      "| it is not clear ...|    1|\n",
      "|    Zarychanski said|    1|\n",
      "| not focused on a...|    2|\n",
      "| Hamiltons medica...|    1|\n",
      "| aside from what ...|    1|\n",
      "+--------------------+-----+\n",
      "only showing top 20 rows\n",
      "\n"
     ]
    }
   ],
   "source": [
    "# groupby and count # of url shows duplicate descriptions\n",
    "news_df.groupBy(\"url\").count().show()"
   ]
  },
  {
   "cell_type": "code",
   "execution_count": 190,
   "metadata": {},
   "outputs": [
    {
     "name": "stdout",
     "output_type": "stream",
     "text": [
      "Total number of words in splitRDD: 2734101\n"
     ]
    }
   ],
   "source": [
    "#Stop word removal code from DataCamp\n",
    "# Create a baseRDD from the file path\n",
    "baseRDD = sc.textFile(\"Desktop/news.csv\")\n",
    "\n",
    "# Split the lines of baseRDD into words\n",
    "splitRDD = baseRDD.flatMap(lambda x: x.split())\n",
    "\n",
    "# Count the total number of words\n",
    "print(\"Total number of words in splitRDD:\", splitRDD.count())"
   ]
  },
  {
   "cell_type": "code",
   "execution_count": 191,
   "metadata": {},
   "outputs": [],
   "source": [
    "stop_words = ['whence', 'here', 'show', 'were', 'why', 'n’t', 'the', 'whereupon', 'not', 'more', 'how', 'eight', 'indeed', \n",
    "              'i', 'only', 'via', 'nine', 're', 'themselves', 'almost', 'to', 'already', 'front', 'least', 'becomes', \n",
    "              'thereby', 'doing', 'her', 'together', 'be', 'often', 'then', 'quite', 'less', 'many', 'they', 'ourselves', \n",
    "              'take', 'its', 'yours', 'each', 'would', 'may', 'namely', 'do', 'whose', 'whether', 'side', 'both', 'what', \n",
    "              'between', 'toward', 'our', 'whereby', \"'m\", 'formerly', 'myself', 'had', 'really', 'call', 'keep', \"'re\", \n",
    "              'hereupon', 'can', 'their', 'eleven', '’m', 'even', 'around', 'twenty', 'mostly', 'did', 'at', 'an', 'seems', \n",
    "              'serious', 'against', \"n't\", 'except', 'has', 'five', 'he', 'last', '‘ve', 'because', 'we', 'himself', 'yet', \n",
    "              'something', 'somehow', '‘m', 'towards', 'his', 'six', 'anywhere', 'us', '‘d', 'thru', 'thus', 'which', \n",
    "              'everything', 'become', 'herein', 'one', 'in', 'although', 'sometime', 'give', 'cannot', 'besides', 'across', \n",
    "              'noone', 'ever', 'that', 'over', 'among', 'during', 'however', 'when', 'sometimes', 'still', 'seemed', 'get', \n",
    "              \"'ve\", 'him', 'with', 'part', 'beyond', 'everyone', 'same', 'this', 'latterly', 'no', 'regarding', 'elsewhere', \n",
    "              'others', 'moreover', 'else', 'back', 'alone', 'somewhere', 'are', 'will', 'beforehand', 'ten', 'very', 'most', \n",
    "              'three', 'former', '’re', 'otherwise', 'several', 'also', 'whatever', 'am', 'becoming', 'beside', '’s', 'nothing', \n",
    "              'some', 'since', 'thence', 'anyway', 'out', 'up', 'well', 'it', 'various', 'four', 'top', '‘s', 'than', 'under', 'might', \n",
    "              'could', 'by', 'too', 'and', 'whom', '‘ll', 'say', 'therefore', \"'s\", 'other', 'throughout', 'became', 'your', 'put', 'per', \n",
    "              \"'ll\", 'fifteen', 'must', 'before', 'whenever', 'anyone', 'without', 'does', 'was', 'where', 'thereafter', \"'d\", 'another', \n",
    "              'yourselves', 'n‘t', 'see', 'go', 'wherever', 'just', 'seeming', 'hence', 'full', 'whereafter', 'bottom', 'whole', 'own', \n",
    "              'empty', 'due', 'behind', 'while', 'onto', 'wherein', 'off', 'again', 'a', 'two', 'above', 'therein', 'sixty', 'those', \n",
    "              'whereas', 'using', 'latter', 'used', 'my', 'herself', 'hers', 'or', 'neither', 'forty', 'thereupon', 'now', 'after', \n",
    "              'yourself', 'whither', 'rather', 'once', 'from', 'until', 'anything', 'few', 'into', 'such', 'being', 'make', 'mine', \n",
    "              'please', 'along', 'hundred', 'should', 'below', 'third', 'unless', 'upon', 'perhaps', 'ours', 'but', 'never', 'whoever', \n",
    "              'fifty', 'any', 'all', 'nobody', 'there', 'have', 'anyhow', 'of', 'seem', 'down', 'is', 'every', '’ll', 'much', 'none', \n",
    "              'further', 'me', 'who', 'nevertheless', 'about', 'everywhere', 'name', 'enough', '’d', 'next', 'meanwhile', 'though', \n",
    "              'through', 'on', 'first', 'been', 'hereby', 'if', 'move', 'so', 'either', 'amongst', 'for', 'twelve', 'nor', 'she', 'always', \n",
    "              'these', 'as', '’ve', 'amount', '‘re', 'someone', 'afterwards', 'you', 'nowhere', 'itself', 'done', 'hereafter', 'within', \n",
    "              'made', 'ca', 'them', 'said', 'said.', '— has', 'says', '— has', '—']"
   ]
  },
  {
   "cell_type": "code",
   "execution_count": 192,
   "metadata": {},
   "outputs": [],
   "source": [
    "# Convert the words in lower case and remove stop words from stop_words\n",
    "splitRDD_no_stop = splitRDD.filter(lambda x: x.lower() not in stop_words)\n",
    "\n",
    "# Create a tuple of the word and 1 \n",
    "splitRDD_no_stop_words = splitRDD_no_stop.map(lambda w: (w, 1))\n",
    "\n",
    "# Count of the number of occurences of each word \n",
    "resultRDD = splitRDD_no_stop_words.reduceByKey(lambda x, y: x + y)"
   ]
  },
  {
   "cell_type": "code",
   "execution_count": 193,
   "metadata": {},
   "outputs": [
    {
     "name": "stdout",
     "output_type": "stream",
     "text": [
      "COVID-19 has 12123 counts\n",
      "people has 11326 counts\n",
      "health has 8979 counts\n",
      "coronavirus has 7697 counts\n",
      "cases has 6950 counts\n",
      "new has 5099 counts\n",
      "public has 4953 counts\n",
      "Health has 4927 counts\n",
      "government has 4434 counts\n",
      "Canada has 4396 counts\n"
     ]
    }
   ],
   "source": [
    "# Swap the keys and values\n",
    "resultRDD_swap = resultRDD.map(lambda x: (x[1], x[0]))\n",
    "\n",
    "# Sort the keys in descending order\n",
    "resultRDD_swap_sort = resultRDD_swap.sortByKey(ascending=False)\n",
    "\n",
    "# Show the top 10 most frequent words and their frequencies\n",
    "for word in resultRDD_swap_sort.take(10):\n",
    "\tprint(\"{} has {} counts\". format(word[1], word[0]))"
   ]
  },
  {
   "cell_type": "code",
   "execution_count": 201,
   "metadata": {},
   "outputs": [],
   "source": [
    "new_results_df = spark.createDataFrame(resultRDD_swap_sort)\n",
    "new_results_df.createOrReplaceTempView(\"Word_Count\")"
   ]
  },
  {
   "cell_type": "code",
   "execution_count": 207,
   "metadata": {},
   "outputs": [],
   "source": [
    "data = new_results_df.select(col(\"_1\").alias(\"count\"), col(\"_2\").alias(\"word\"))"
   ]
  },
  {
   "cell_type": "code",
   "execution_count": 208,
   "metadata": {},
   "outputs": [
    {
     "name": "stdout",
     "output_type": "stream",
     "text": [
      "+-----+-----------+\n",
      "|count|       word|\n",
      "+-----+-----------+\n",
      "|12123|   COVID-19|\n",
      "|11326|     people|\n",
      "| 8979|     health|\n",
      "| 7697|coronavirus|\n",
      "| 6950|      cases|\n",
      "| 5099|        new|\n",
      "| 4953|     public|\n",
      "| 4927|     Health|\n",
      "| 4434| government|\n",
      "| 4396|     Canada|\n",
      "| 3874|     spread|\n",
      "| 3701|       need|\n",
      "| 3657|       home|\n",
      "| 3563|  confirmed|\n",
      "| 3328|      virus|\n",
      "| 3302|      March|\n",
      "| 3279|       it's|\n",
      "| 3228|   province|\n",
      "| 3006|  officials|\n",
      "| 2966|       \"\"We|\n",
      "+-----+-----------+\n",
      "only showing top 20 rows\n",
      "\n"
     ]
    }
   ],
   "source": [
    "data.show()"
   ]
  },
  {
   "cell_type": "code",
   "execution_count": 209,
   "metadata": {},
   "outputs": [
    {
     "data": {
      "text/plain": [
       "[Row(count=12123, word='COVID-19'),\n",
       " Row(count=11326, word='people'),\n",
       " Row(count=8979, word='health'),\n",
       " Row(count=7697, word='coronavirus'),\n",
       " Row(count=6950, word='cases'),\n",
       " Row(count=5099, word='new'),\n",
       " Row(count=4953, word='public'),\n",
       " Row(count=4927, word='Health'),\n",
       " Row(count=4434, word='government'),\n",
       " Row(count=4396, word='Canada')]"
      ]
     },
     "execution_count": 209,
     "metadata": {},
     "output_type": "execute_result"
    }
   ],
   "source": [
    "top_10 = data.take(10)\n",
    "top_10"
   ]
  },
  {
   "cell_type": "code",
   "execution_count": 214,
   "metadata": {},
   "outputs": [
    {
     "name": "stdout",
     "output_type": "stream",
     "text": [
      "The column names of names_df are ['count', 'word']\n"
     ]
    }
   ],
   "source": [
    "print(\"The column names of names_df are\", data.columns)"
   ]
  },
  {
   "cell_type": "code",
   "execution_count": 215,
   "metadata": {},
   "outputs": [],
   "source": [
    "df_pandas = data.toPandas()"
   ]
  },
  {
   "cell_type": "code",
   "execution_count": 216,
   "metadata": {},
   "outputs": [],
   "source": [
    "import pandas as pd\n",
    "import matplotlib.pyplot as plt"
   ]
  },
  {
   "cell_type": "code",
   "execution_count": null,
   "metadata": {},
   "outputs": [],
   "source": [
    "plt.clf()\n",
    "pdDF = df_pandas\n",
    "pdDF.plot(x='word', y='count', kind='bar', rot=45)\n",
    "display()"
   ]
  },
  {
   "cell_type": "code",
   "execution_count": null,
   "metadata": {},
   "outputs": [],
   "source": []
  }
 ],
 "metadata": {
  "kernelspec": {
   "display_name": "Python 3",
   "language": "python",
   "name": "python3"
  },
  "language_info": {
   "codemirror_mode": {
    "name": "ipython",
    "version": 3
   },
   "file_extension": ".py",
   "mimetype": "text/x-python",
   "name": "python",
   "nbconvert_exporter": "python",
   "pygments_lexer": "ipython3",
   "version": "3.8.0"
  }
 },
 "nbformat": 4,
 "nbformat_minor": 4
}
